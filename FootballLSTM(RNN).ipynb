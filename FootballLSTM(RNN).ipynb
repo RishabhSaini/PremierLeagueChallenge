{
  "nbformat": 4,
  "nbformat_minor": 0,
  "metadata": {
    "colab": {
      "name": "FootballLSTM(RNN).ipynb",
      "provenance": [],
      "collapsed_sections": []
    },
    "kernelspec": {
      "name": "python3",
      "display_name": "Python 3"
    },
    "language_info": {
      "name": "python"
    },
    "accelerator": "GPU"
  },
  "cells": [
    {
      "cell_type": "code",
      "source": [
        "import torch\n",
        "import torch.nn as nn\n",
        "import numpy as np\n",
        "from torch.autograd import Variable \n",
        "import pandas as pd\n",
        "import matplotlib.pyplot as plt"
      ],
      "metadata": {
        "id": "Frk_g2y7O3vf"
      },
      "execution_count": 23,
      "outputs": []
    },
    {
      "cell_type": "code",
      "source": [
        "is_cuda = torch.cuda.is_available()\n",
        "if is_cuda:\n",
        "    device = torch.device(\"cuda\")\n",
        "    print(\"GPU is available\")\n",
        "else:\n",
        "    device = torch.device(\"cpu\")\n",
        "    print(\"GPU not available, CPU used\")"
      ],
      "metadata": {
        "id": "wjcQvLfoPzys",
        "colab": {
          "base_uri": "https://localhost:8080/"
        },
        "outputId": "3f99460e-6101-4810-b49d-1dd5133563be"
      },
      "execution_count": 2,
      "outputs": [
        {
          "output_type": "stream",
          "name": "stdout",
          "text": [
            "GPU is available\n"
          ]
        }
      ]
    },
    {
      "cell_type": "markdown",
      "source": [
        "Data (Input and Ouput)"
      ],
      "metadata": {
        "id": "l18xEs55o8M1"
      }
    },
    {
      "cell_type": "code",
      "source": [
        "from google.colab import files\n",
        "uploaded = files.upload()"
      ],
      "metadata": {
        "id": "dV-lviLwNPIg",
        "outputId": "753952d0-6430-443f-a374-a03400666514",
        "colab": {
          "resources": {
            "http://localhost:8080/nbextensions/google.colab/files.js": {
              "data": "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",
              "ok": true,
              "headers": [
                [
                  "content-type",
                  "application/javascript"
                ]
              ],
              "status": 200,
              "status_text": ""
            }
          },
          "base_uri": "https://localhost:8080/",
          "height": 143
        }
      },
      "execution_count": 3,
      "outputs": [
        {
          "output_type": "display_data",
          "data": {
            "text/html": [
              "\n",
              "     <input type=\"file\" id=\"files-31733429-5a9d-4e99-a4b6-eb00de49021f\" name=\"files[]\" multiple disabled\n",
              "        style=\"border:none\" />\n",
              "     <output id=\"result-31733429-5a9d-4e99-a4b6-eb00de49021f\">\n",
              "      Upload widget is only available when the cell has been executed in the\n",
              "      current browser session. Please rerun this cell to enable.\n",
              "      </output>\n",
              "      <script src=\"/nbextensions/google.colab/files.js\"></script> "
            ],
            "text/plain": [
              "<IPython.core.display.HTML object>"
            ]
          },
          "metadata": {}
        },
        {
          "output_type": "stream",
          "name": "stdout",
          "text": [
            "Saving valid.csv to valid.csv\n",
            "Saving test.csv to test.csv\n",
            "Saving train.csv to train.csv\n"
          ]
        }
      ]
    },
    {
      "cell_type": "code",
      "source": [
        "import io\n",
        "df_train = pd.read_csv(\"train.csv\", index_col = \"Date\", parse_dates=True)\n",
        "df_valid = pd.read_csv(\"valid.csv\", index_col = \"Date\", parse_dates=True)\n",
        "df_test = pd.read_csv(\"test.csv\", index_col = \"Date\", parse_dates=True)"
      ],
      "metadata": {
        "id": "wNsBV3bhNaOa"
      },
      "execution_count": 4,
      "outputs": []
    },
    {
      "cell_type": "code",
      "source": [
        "y_train = df_train.iloc[:,0]\n",
        "X_train = df_train.iloc[:,1:]\n",
        "\n",
        "y_test = df_test.iloc[:,0]\n",
        "X_test = df_test.iloc[:,1:]\n",
        "\n",
        "y_valid = df_valid.iloc[:,0]\n",
        "X_valid = df_valid.iloc[:,1:]\n",
        "\n",
        "print(\"Training Shape\", X_train.shape, y_train.shape)\n",
        "print(\"Testing Shape\", X_test.shape, y_test.shape) \n",
        "print(\"Validate Shape\", X_valid.shape, y_valid.shape)"
      ],
      "metadata": {
        "id": "K5sdFNdnjqlb",
        "colab": {
          "base_uri": "https://localhost:8080/"
        },
        "outputId": "2905fdd1-9b44-407d-d36b-c0685c1f51cb"
      },
      "execution_count": 5,
      "outputs": [
        {
          "output_type": "stream",
          "name": "stdout",
          "text": [
            "Training Shape (3239, 28) (3239,)\n",
            "Testing Shape (225, 28) (225,)\n",
            "Validate Shape (336, 28) (336,)\n"
          ]
        }
      ]
    },
    {
      "cell_type": "code",
      "source": [
        "#Remove strings in data \n",
        "# H: win   0\n",
        "# NHL lose 1\n",
        "# remove HM1 to AM5\n",
        "\n",
        "X_train = X_train.drop(['HM1', 'HM2', 'HM3', 'HM4', 'HM5', 'AM1', 'AM2', 'AM3', 'AM4', 'AM5'], axis=1)\n",
        "X_test = X_test.drop(['HM1', 'HM2', 'HM3', 'HM4', 'HM5', 'AM1', 'AM2', 'AM3', 'AM4', 'AM5'], axis=1)\n",
        "X_valid = X_valid.drop(['HM1', 'HM2', 'HM3', 'HM4', 'HM5', 'AM1', 'AM2', 'AM3', 'AM4', 'AM5'], axis=1)\n",
        "\n",
        "y_train = y_train.replace('H', 1)\n",
        "y_train = y_train.replace('NH', 0)\n",
        "\n",
        "y_test = y_test.replace('H', 1)\n",
        "y_test = y_test.replace('NH', 0)\n",
        "\n",
        "y_valid = y_valid.replace('H', 1)\n",
        "y_valid = y_valid.replace('NH', 0)"
      ],
      "metadata": {
        "id": "OWh_rBIlRa8-"
      },
      "execution_count": 6,
      "outputs": []
    },
    {
      "cell_type": "code",
      "source": [
        "X_train_tensors = Variable(torch.Tensor(X_train.values))\n",
        "X_test_tensors = Variable(torch.Tensor(X_test.values))\n",
        "X_valid_tensors = Variable(torch.Tensor(X_valid.values))\n",
        "\n",
        "y_train_tensors = Variable(torch.Tensor(y_train.values))\n",
        "y_test_tensors = Variable(torch.Tensor(y_test.values)) \n",
        "y_valid_tensors = Variable(torch.Tensor(y_valid.values))"
      ],
      "metadata": {
        "id": "v1Ch-kpNRZrh"
      },
      "execution_count": 7,
      "outputs": []
    },
    {
      "cell_type": "code",
      "source": [
        "X_train_tensors_final = torch.reshape(X_train_tensors,   (X_train_tensors.shape[0], 1, X_train_tensors.shape[1]))\n",
        "X_test_tensors_final = torch.reshape(X_test_tensors,  (X_test_tensors.shape[0], 1, X_test_tensors.shape[1])) \n",
        "\n",
        "y_train_tensors_final = torch.reshape(y_train_tensors, (y_train_tensors.shape[0], 1))\n",
        "y_test_tensors_final = torch.reshape(y_test_tensors, (y_test_tensors.shape[0], 1))\n",
        "\n",
        "print(f\"X_train_tensors_final:\\n{X_train_tensors_final[:3,:]}\\n\")"
      ],
      "metadata": {
        "colab": {
          "base_uri": "https://localhost:8080/"
        },
        "id": "-7hqzsdDU_0t",
        "outputId": "55bc6b0b-b318-4e4c-d484-388c3cf23ef7"
      },
      "execution_count": 8,
      "outputs": [
        {
          "output_type": "stream",
          "name": "stdout",
          "text": [
            "X_train_tensors_final:\n",
            "tensor([[[0., 0., 0., 0., 0., 0., 0., 0., 0., 0., 0., 0., 0., 0., 0., 0., 0., 0.]],\n",
            "\n",
            "        [[0., 0., 0., 0., 0., 0., 0., 0., 0., 0., 0., 0., 0., 0., 0., 0., 0., 0.]],\n",
            "\n",
            "        [[0., 0., 0., 0., 0., 0., 0., 0., 0., 0., 0., 0., 0., 0., 0., 0., 0., 0.]]])\n",
            "\n"
          ]
        }
      ]
    },
    {
      "cell_type": "code",
      "source": [
        "print(\"Training Shape\", X_train_tensors_final.shape, y_train_tensors_final.shape)\n",
        "print(\"Testing Shape\", X_test_tensors_final.shape, y_test_tensors_final.shape)\n",
        "\n",
        "print(X_train_tensors_final)"
      ],
      "metadata": {
        "colab": {
          "base_uri": "https://localhost:8080/"
        },
        "id": "j1H8YG7QVRVn",
        "outputId": "8cd64688-ccaf-4315-8871-ade1b62d3436"
      },
      "execution_count": 14,
      "outputs": [
        {
          "output_type": "stream",
          "name": "stdout",
          "text": [
            "Training Shape torch.Size([3239, 1, 18]) torch.Size([3239, 1])\n",
            "Testing Shape torch.Size([225, 1, 18]) torch.Size([225, 1])\n",
            "tensor([[[ 0.0000,  0.0000,  0.0000,  ...,  0.0000,  0.0000,  0.0000]],\n",
            "\n",
            "        [[ 0.0000,  0.0000,  0.0000,  ...,  0.0000,  0.0000,  0.0000]],\n",
            "\n",
            "        [[ 0.0000,  0.0000,  0.0000,  ...,  0.0000,  0.0000,  0.0000]],\n",
            "\n",
            "        ...,\n",
            "\n",
            "        [[ 0.2451,  0.3143,  0.3373,  ...,  0.3000, -0.4000, -0.0500]],\n",
            "\n",
            "        [[ 0.4608,  0.2762,  0.1687,  ...,  0.2500,  1.2500,  0.2500]],\n",
            "\n",
            "        [[ 0.5098,  0.2190,  0.2771,  ...,  0.3000,  0.4500, -0.0500]]])\n"
          ]
        }
      ]
    },
    {
      "cell_type": "markdown",
      "source": [
        "LSTM Model Architecture"
      ],
      "metadata": {
        "id": "uvfQU3MDo4_h"
      }
    },
    {
      "cell_type": "code",
      "source": [
        "class rnnLSTM(nn.Module):\n",
        "\n",
        "  def __init__(self, num_classes, input_size, hidden_size, num_layers, seq_length):\n",
        "    \n",
        "    super(rnnLSTM, self).__init__()\n",
        "    self.num_classes = num_classes\n",
        "    self.num_layers = num_layers\n",
        "    self.input_size = input_size\n",
        "    self.hidden_size = hidden_size\n",
        "    self.seq_length = seq_length\n",
        "\n",
        "    self.lstm = nn.LSTM(input_size=input_size, hidden_size=hidden_size, num_layers=num_layers, batch_first=True)\n",
        "    self.fc_1 = nn.Linear(hidden_size, 128)\n",
        "    self.fc_2 = nn.Linear(128, num_classes)\n",
        "    self.relu = nn.ReLU()\n",
        "\n",
        "  def forward(self, x):\n",
        "    \n",
        "    h_0 = Variable(torch.zeros(self.num_layers, x.size(0), self.hidden_size))\n",
        "    c_0 = Variable(torch.zeros(self.num_layers, x.size(0), self.hidden_size))\n",
        "\n",
        "    output, (hn, cn) = self.lstm(x, (h_0, c_0))\n",
        "    hn = hn.view(-1, self.hidden_size) #reshaping data for Dense layer\n",
        "    out = self.relu(hn)\n",
        "    out = self.fc_1(out)\n",
        "    out = self.relu(out)\n",
        "    out = self.fc_2(out)\n",
        "\n",
        "    return out"
      ],
      "metadata": {
        "id": "fTty3OxgP-jk"
      },
      "execution_count": 24,
      "outputs": []
    },
    {
      "cell_type": "markdown",
      "source": [
        "Initializing LSTM Model"
      ],
      "metadata": {
        "id": "OsCTfBJCo16K"
      }
    },
    {
      "cell_type": "code",
      "source": [
        "num_epochs = 100\n",
        "learning_rate = 0.001\n",
        "\n",
        "input_size = 18 #Number of features\n",
        "hidden_size = 5 #Number of features in Short Term memory (hidden state)\n",
        "num_layers = 1 #Number of stacked LSTM layers\n",
        "num_classes = 2 #number of output classes\n",
        "lstm1 = rnnLSTM(num_classes, input_size, hidden_size, num_layers, X_train_tensors_final.shape[1])"
      ],
      "metadata": {
        "id": "Yj5dR6XRfoxl"
      },
      "execution_count": 25,
      "outputs": []
    },
    {
      "cell_type": "markdown",
      "source": [
        "Training (Implement Batches)"
      ],
      "metadata": {
        "id": "OPQH2N4GordQ"
      }
    },
    {
      "cell_type": "code",
      "source": [
        "def get_accuracy(X, y):\n",
        "  output = lstm1(X)\n",
        "  y = y.squeeze()\n",
        "  pred = output.max(1)[1]\n",
        "  correct = np.count_nonzero(y.eq(output.max(1)[1]))\n",
        "  total = X.shape[0]\n",
        "  res = correct/total\n",
        "  return res\n",
        "\n",
        "criterion = torch.nn.CrossEntropyLoss() #Mean squared error for regression\n",
        "optimizer = torch.optim.Adam(lstm1.parameters(), lr=learning_rate)\n",
        "iters, losses, train_acc, = [], [], []\n",
        "\n",
        "for epoch in range(num_epochs):\n",
        "  ouputs = lstm1(X_train_tensors_final) #forward pass\n",
        "  optimizer.zero_grad() #calculate the gradient, mnually set to 0y_test_tensors_final\n",
        "  #print(f\"Ouput: {ouputs} and Y:{y_train_tensors_final.squeeze().long()}\")\n",
        "  #break\n",
        "  loss = criterion(ouputs, y_train_tensors_final.squeeze().long()) #obtain loss function\n",
        "  loss.backward() #compute loss\n",
        "  optimizer.step() #imporve from loss #backprop\n",
        "  # print(f\"Epoch: {epoch}, loss:{loss.item()}\")\n",
        "\n",
        "  iters.append(epoch)\n",
        "  losses.append(float(loss))             # compute *average* loss\n",
        "  train_acc.append(get_accuracy(X_train_tensors_final, y_train_tensors_final)) # compute training accuracy \n",
        "  print(f\"Epoch {epoch+1}: Train acc: {train_acc[epoch]} Losses: {losses[epoch]}\")\n",
        "\n",
        "# plotting\n",
        "plt.title(\"Loss\")\n",
        "plt.plot(iters, losses, label=\"Train\")\n",
        "plt.xlabel(\"Iterations\")\n",
        "plt.ylabel(\"Loss\")\n",
        "plt.show()\n",
        "\n",
        "plt.title(\"Accuracy\")\n",
        "plt.plot(iters, train_acc, label=\"Train\")\n",
        "plt.xlabel(\"Iterations\")\n",
        "plt.ylabel(\"Training Accuracy\")\n",
        "plt.legend(loc='best')\n",
        "plt.show()\n",
        "\n",
        "print(\"Final Training Accuracy: {}\".format(train_acc[-1]))"
      ],
      "metadata": {
        "id": "ecZ3ZWGBlnA2",
        "colab": {
          "base_uri": "https://localhost:8080/",
          "height": 1000
        },
        "outputId": "ca9af08d-e60a-4977-b9fd-ee1397f357a3"
      },
      "execution_count": 69,
      "outputs": [
        {
          "output_type": "stream",
          "name": "stdout",
          "text": [
            "Epoch 1: Train acc: 0.5541833899351651 Losses: 0.6930657029151917\n",
            "Epoch 2: Train acc: 0.552639703612226 Losses: 0.6910938024520874\n",
            "Epoch 3: Train acc: 0.5625192960790367 Losses: 0.6892340183258057\n",
            "Epoch 4: Train acc: 0.5739425748687866 Losses: 0.6874601244926453\n",
            "Epoch 5: Train acc: 0.5838221673355974 Losses: 0.6857529282569885\n",
            "Epoch 6: Train acc: 0.5940104970669959 Losses: 0.6840946078300476\n",
            "Epoch 7: Train acc: 0.6017289286816919 Losses: 0.682469367980957\n",
            "Epoch 8: Train acc: 0.6122259956776783 Losses: 0.6808638572692871\n",
            "Epoch 9: Train acc: 0.6156221055881445 Losses: 0.6792696118354797\n",
            "Epoch 10: Train acc: 0.6177832664402594 Losses: 0.6776821613311768\n",
            "Epoch 11: Train acc: 0.618400740969435 Losses: 0.6760988831520081\n",
            "Epoch 12: Train acc: 0.6193269527631985 Losses: 0.674521267414093\n",
            "Epoch 13: Train acc: 0.6233405372028403 Losses: 0.6729521155357361\n",
            "Epoch 14: Train acc: 0.6211793763507255 Losses: 0.6713956594467163\n",
            "Epoch 15: Train acc: 0.622105588144489 Losses: 0.6698541045188904\n",
            "Epoch 16: Train acc: 0.622105588144489 Losses: 0.668327808380127\n",
            "Epoch 17: Train acc: 0.6214881136153134 Losses: 0.6668187379837036\n",
            "Epoch 18: Train acc: 0.6236492744674282 Losses: 0.6653275489807129\n",
            "Epoch 19: Train acc: 0.6258104353195431 Losses: 0.6638573408126831\n",
            "Epoch 20: Train acc: 0.6251929607903673 Losses: 0.6624076962471008\n",
            "Epoch 21: Train acc: 0.6258104353195431 Losses: 0.6609777808189392\n",
            "Epoch 22: Train acc: 0.6245754862611917 Losses: 0.6595679521560669\n",
            "Epoch 23: Train acc: 0.6261191725841309 Losses: 0.6581764221191406\n",
            "Epoch 24: Train acc: 0.6288978079654214 Losses: 0.6568040251731873\n",
            "Epoch 25: Train acc: 0.6307502315529484 Losses: 0.6554518342018127\n",
            "Epoch 26: Train acc: 0.6310589688175363 Losses: 0.6541218757629395\n",
            "Epoch 27: Train acc: 0.6322939178758876 Losses: 0.6528154015541077\n",
            "Epoch 28: Train acc: 0.6329113924050633 Losses: 0.6515331864356995\n",
            "Epoch 29: Train acc: 0.6322939178758876 Losses: 0.650277316570282\n",
            "Epoch 30: Train acc: 0.6335288669342389 Losses: 0.6490477323532104\n",
            "Epoch 31: Train acc: 0.6341463414634146 Losses: 0.6478464603424072\n",
            "Epoch 32: Train acc: 0.6344550787280024 Losses: 0.6466755270957947\n",
            "Epoch 33: Train acc: 0.6347638159925904 Losses: 0.6455363631248474\n",
            "Epoch 34: Train acc: 0.6363075023155295 Losses: 0.6444306969642639\n",
            "Epoch 35: Train acc: 0.6381599259030565 Losses: 0.6433570384979248\n",
            "Epoch 36: Train acc: 0.6384686631676443 Losses: 0.6423163414001465\n",
            "Epoch 37: Train acc: 0.6381599259030565 Losses: 0.6413128972053528\n",
            "Epoch 38: Train acc: 0.63908613769682 Losses: 0.6403443813323975\n",
            "Epoch 39: Train acc: 0.6406298240197592 Losses: 0.639409065246582\n",
            "Epoch 40: Train acc: 0.6421735103426983 Losses: 0.6385066509246826\n",
            "Epoch 41: Train acc: 0.6440259339302253 Losses: 0.6376357078552246\n",
            "Epoch 42: Train acc: 0.6452608829885768 Losses: 0.6367978453636169\n",
            "Epoch 43: Train acc: 0.6449521457239888 Losses: 0.6359930634498596\n",
            "Epoch 44: Train acc: 0.6468045693115159 Losses: 0.6352167725563049\n",
            "Epoch 45: Train acc: 0.6464958320469281 Losses: 0.6344698667526245\n",
            "Epoch 46: Train acc: 0.6455696202531646 Losses: 0.633750319480896\n",
            "Epoch 47: Train acc: 0.6452608829885768 Losses: 0.6330591440200806\n",
            "Epoch 48: Train acc: 0.644643408459401 Losses: 0.6323939561843872\n",
            "Epoch 49: Train acc: 0.6452608829885768 Losses: 0.6317561268806458\n",
            "Epoch 50: Train acc: 0.6471133065761038 Losses: 0.6311439275741577\n",
            "Epoch 51: Train acc: 0.6477307811052794 Losses: 0.6305539608001709\n",
            "Epoch 52: Train acc: 0.6477307811052794 Losses: 0.6299851536750793\n",
            "Epoch 53: Train acc: 0.6480395183698673 Losses: 0.6294336318969727\n",
            "Epoch 54: Train acc: 0.6464958320469281 Losses: 0.6288958191871643\n",
            "Epoch 55: Train acc: 0.6474220438406916 Losses: 0.6283707618713379\n",
            "Epoch 56: Train acc: 0.6492744674282186 Losses: 0.6278553009033203\n",
            "Epoch 57: Train acc: 0.6492744674282186 Losses: 0.6273484826087952\n",
            "Epoch 58: Train acc: 0.6505094164865699 Losses: 0.6268500685691833\n",
            "Epoch 59: Train acc: 0.6502006792219821 Losses: 0.6263644695281982\n",
            "Epoch 60: Train acc: 0.6520531028095091 Losses: 0.6258924007415771\n",
            "Epoch 61: Train acc: 0.6523618400740969 Losses: 0.6254335641860962\n",
            "Epoch 62: Train acc: 0.6526705773386848 Losses: 0.6249861121177673\n",
            "Epoch 63: Train acc: 0.6542142636616239 Losses: 0.6245497465133667\n",
            "Epoch 64: Train acc: 0.6551404754553874 Losses: 0.6241266131401062\n",
            "Epoch 65: Train acc: 0.6563754245137388 Losses: 0.6237139701843262\n",
            "Epoch 66: Train acc: 0.6566841617783267 Losses: 0.6233099102973938\n",
            "Epoch 67: Train acc: 0.6573016363075023 Losses: 0.6229168772697449\n",
            "Epoch 68: Train acc: 0.6557579499845632 Losses: 0.6225342750549316\n",
            "Epoch 69: Train acc: 0.6554492127199752 Losses: 0.6221615076065063\n",
            "Epoch 70: Train acc: 0.6566841617783267 Losses: 0.6217959523200989\n",
            "Epoch 71: Train acc: 0.6557579499845632 Losses: 0.6214359998703003\n",
            "Epoch 72: Train acc: 0.6551404754553874 Losses: 0.6210830211639404\n",
            "Epoch 73: Train acc: 0.6545230009262117 Losses: 0.6207361221313477\n",
            "Epoch 74: Train acc: 0.6535967891324483 Losses: 0.6203964948654175\n",
            "Epoch 75: Train acc: 0.6545230009262117 Losses: 0.6200685501098633\n",
            "Epoch 76: Train acc: 0.6551404754553874 Losses: 0.6197513341903687\n",
            "Epoch 77: Train acc: 0.6554492127199752 Losses: 0.6194437742233276\n",
            "Epoch 78: Train acc: 0.6545230009262117 Losses: 0.6191465854644775\n",
            "Epoch 79: Train acc: 0.6557579499845632 Losses: 0.6188575625419617\n",
            "Epoch 80: Train acc: 0.6557579499845632 Losses: 0.6185761094093323\n",
            "Epoch 81: Train acc: 0.6566841617783267 Losses: 0.6183064579963684\n",
            "Epoch 82: Train acc: 0.6569928990429145 Losses: 0.6180494427680969\n",
            "Epoch 83: Train acc: 0.6551404754553874 Losses: 0.6178024411201477\n",
            "Epoch 84: Train acc: 0.6551404754553874 Losses: 0.617563009262085\n",
            "Epoch 85: Train acc: 0.6542142636616239 Losses: 0.6173350214958191\n",
            "Epoch 86: Train acc: 0.6535967891324483 Losses: 0.617112934589386\n",
            "Epoch 87: Train acc: 0.6532880518678604 Losses: 0.6168962717056274\n",
            "Epoch 88: Train acc: 0.6514356282803334 Losses: 0.6166888475418091\n",
            "Epoch 89: Train acc: 0.6514356282803334 Losses: 0.6164888739585876\n",
            "Epoch 90: Train acc: 0.6514356282803334 Losses: 0.6162965893745422\n",
            "Epoch 91: Train acc: 0.6520531028095091 Losses: 0.6161130666732788\n",
            "Epoch 92: Train acc: 0.6517443655449213 Losses: 0.6159335970878601\n",
            "Epoch 93: Train acc: 0.6517443655449213 Losses: 0.6157597303390503\n",
            "Epoch 94: Train acc: 0.6508181537511578 Losses: 0.6155950427055359\n",
            "Epoch 95: Train acc: 0.6495832046928064 Losses: 0.6154362559318542\n",
            "Epoch 96: Train acc: 0.6486569928990429 Losses: 0.6152824759483337\n",
            "Epoch 97: Train acc: 0.6489657301636308 Losses: 0.6151324510574341\n",
            "Epoch 98: Train acc: 0.6489657301636308 Losses: 0.6149847507476807\n",
            "Epoch 99: Train acc: 0.6508181537511578 Losses: 0.6148388981819153\n",
            "Epoch 100: Train acc: 0.6508181537511578 Losses: 0.6146944165229797\n"
          ]
        },
        {
          "output_type": "display_data",
          "data": {
            "image/png": "[encoded data removed]",
            "text/plain": [
              "<Figure size 432x288 with 1 Axes>"
            ]
          },
          "metadata": {
            "needs_background": "light"
          }
        },
        {
          "output_type": "display_data",
          "data": {
            "image/png": "[encoded data removed]",
            "text/plain": [
              "<Figure size 432x288 with 1 Axes>"
            ]
          },
          "metadata": {
            "needs_background": "light"
          }
        },
        {
          "output_type": "stream",
          "name": "stdout",
          "text": [
            "Final Training Accuracy: 0.6508181537511578\n"
          ]
        }
      ]
    },
    {
      "cell_type": "markdown",
      "source": [
        "Testing"
      ],
      "metadata": {
        "id": "SnGJC2LSooJZ"
      }
    }
  ]
}